{
 "cells": [
  {
   "cell_type": "code",
   "execution_count": 99,
   "id": "548508fb",
   "metadata": {},
   "outputs": [],
   "source": [
    "#Python Libraries\n",
    "import pandas as pd #Data Processing and CSV file I/o\n",
    "import numpy as np #for numeric operations\n",
    "import matplotlib.pyplot as plt\n",
    "import seaborn as sns\n",
    "\n",
    "#spliting and scaling the data\n",
    "from sklearn.model_selection import train_test_split\n",
    "from sklearn.preprocessing import StandardScaler\n",
    "\n",
    "from sklearn.metrics import mean_absolute_percentage_error as mape\n",
    "from sklearn.linear_model import LinearRegression, Lasso, Ridge\n",
    "from sklearn.ensemble import RandomForestRegressor, AdaBoostRegressor\n",
    "\n",
    "#metric\n",
    "from sklearn.metrics import classification_report, accuracy_score"
   ]
  },
  {
   "cell_type": "markdown",
   "id": "81b9e8a9",
   "metadata": {},
   "source": [
    "## Collecting Data"
   ]
  },
  {
   "cell_type": "code",
   "execution_count": 100,
   "id": "51eb204b",
   "metadata": {},
   "outputs": [],
   "source": [
    "insurance_df = pd.read_csv('insurance.csv')"
   ]
  },
  {
   "cell_type": "code",
   "execution_count": 101,
   "id": "51e52e96",
   "metadata": {},
   "outputs": [
    {
     "data": {
      "text/html": [
       "<div>\n",
       "<style scoped>\n",
       "    .dataframe tbody tr th:only-of-type {\n",
       "        vertical-align: middle;\n",
       "    }\n",
       "\n",
       "    .dataframe tbody tr th {\n",
       "        vertical-align: top;\n",
       "    }\n",
       "\n",
       "    .dataframe thead th {\n",
       "        text-align: right;\n",
       "    }\n",
       "</style>\n",
       "<table border=\"1\" class=\"dataframe\">\n",
       "  <thead>\n",
       "    <tr style=\"text-align: right;\">\n",
       "      <th></th>\n",
       "      <th>age</th>\n",
       "      <th>sex</th>\n",
       "      <th>bmi</th>\n",
       "      <th>children</th>\n",
       "      <th>smoker</th>\n",
       "      <th>region</th>\n",
       "      <th>charges</th>\n",
       "    </tr>\n",
       "  </thead>\n",
       "  <tbody>\n",
       "    <tr>\n",
       "      <th>0</th>\n",
       "      <td>19</td>\n",
       "      <td>1</td>\n",
       "      <td>27.900</td>\n",
       "      <td>0</td>\n",
       "      <td>1</td>\n",
       "      <td>1</td>\n",
       "      <td>16884.92400</td>\n",
       "    </tr>\n",
       "    <tr>\n",
       "      <th>1</th>\n",
       "      <td>18</td>\n",
       "      <td>0</td>\n",
       "      <td>33.770</td>\n",
       "      <td>1</td>\n",
       "      <td>0</td>\n",
       "      <td>2</td>\n",
       "      <td>1725.55230</td>\n",
       "    </tr>\n",
       "    <tr>\n",
       "      <th>2</th>\n",
       "      <td>28</td>\n",
       "      <td>0</td>\n",
       "      <td>33.000</td>\n",
       "      <td>3</td>\n",
       "      <td>0</td>\n",
       "      <td>2</td>\n",
       "      <td>4449.46200</td>\n",
       "    </tr>\n",
       "    <tr>\n",
       "      <th>3</th>\n",
       "      <td>33</td>\n",
       "      <td>0</td>\n",
       "      <td>22.705</td>\n",
       "      <td>0</td>\n",
       "      <td>0</td>\n",
       "      <td>0</td>\n",
       "      <td>21984.47061</td>\n",
       "    </tr>\n",
       "    <tr>\n",
       "      <th>4</th>\n",
       "      <td>32</td>\n",
       "      <td>0</td>\n",
       "      <td>28.880</td>\n",
       "      <td>0</td>\n",
       "      <td>0</td>\n",
       "      <td>0</td>\n",
       "      <td>3866.85520</td>\n",
       "    </tr>\n",
       "    <tr>\n",
       "      <th>5</th>\n",
       "      <td>31</td>\n",
       "      <td>1</td>\n",
       "      <td>25.740</td>\n",
       "      <td>0</td>\n",
       "      <td>0</td>\n",
       "      <td>2</td>\n",
       "      <td>3756.62160</td>\n",
       "    </tr>\n",
       "    <tr>\n",
       "      <th>6</th>\n",
       "      <td>46</td>\n",
       "      <td>1</td>\n",
       "      <td>33.440</td>\n",
       "      <td>1</td>\n",
       "      <td>0</td>\n",
       "      <td>2</td>\n",
       "      <td>8240.58960</td>\n",
       "    </tr>\n",
       "    <tr>\n",
       "      <th>7</th>\n",
       "      <td>37</td>\n",
       "      <td>1</td>\n",
       "      <td>27.740</td>\n",
       "      <td>3</td>\n",
       "      <td>0</td>\n",
       "      <td>0</td>\n",
       "      <td>7281.50560</td>\n",
       "    </tr>\n",
       "    <tr>\n",
       "      <th>8</th>\n",
       "      <td>37</td>\n",
       "      <td>0</td>\n",
       "      <td>29.830</td>\n",
       "      <td>2</td>\n",
       "      <td>0</td>\n",
       "      <td>3</td>\n",
       "      <td>6406.41070</td>\n",
       "    </tr>\n",
       "    <tr>\n",
       "      <th>9</th>\n",
       "      <td>60</td>\n",
       "      <td>1</td>\n",
       "      <td>25.840</td>\n",
       "      <td>0</td>\n",
       "      <td>0</td>\n",
       "      <td>0</td>\n",
       "      <td>28923.13692</td>\n",
       "    </tr>\n",
       "    <tr>\n",
       "      <th>10</th>\n",
       "      <td>25</td>\n",
       "      <td>0</td>\n",
       "      <td>26.220</td>\n",
       "      <td>0</td>\n",
       "      <td>0</td>\n",
       "      <td>3</td>\n",
       "      <td>2721.32080</td>\n",
       "    </tr>\n",
       "    <tr>\n",
       "      <th>11</th>\n",
       "      <td>62</td>\n",
       "      <td>1</td>\n",
       "      <td>26.290</td>\n",
       "      <td>0</td>\n",
       "      <td>1</td>\n",
       "      <td>2</td>\n",
       "      <td>27808.72510</td>\n",
       "    </tr>\n",
       "    <tr>\n",
       "      <th>12</th>\n",
       "      <td>23</td>\n",
       "      <td>0</td>\n",
       "      <td>34.400</td>\n",
       "      <td>0</td>\n",
       "      <td>0</td>\n",
       "      <td>1</td>\n",
       "      <td>1826.84300</td>\n",
       "    </tr>\n",
       "    <tr>\n",
       "      <th>13</th>\n",
       "      <td>56</td>\n",
       "      <td>1</td>\n",
       "      <td>39.820</td>\n",
       "      <td>0</td>\n",
       "      <td>0</td>\n",
       "      <td>2</td>\n",
       "      <td>11090.71780</td>\n",
       "    </tr>\n",
       "    <tr>\n",
       "      <th>14</th>\n",
       "      <td>27</td>\n",
       "      <td>0</td>\n",
       "      <td>42.130</td>\n",
       "      <td>0</td>\n",
       "      <td>1</td>\n",
       "      <td>2</td>\n",
       "      <td>39611.75770</td>\n",
       "    </tr>\n",
       "  </tbody>\n",
       "</table>\n",
       "</div>"
      ],
      "text/plain": [
       "    age  sex     bmi  children  smoker  region      charges\n",
       "0    19    1  27.900         0       1       1  16884.92400\n",
       "1    18    0  33.770         1       0       2   1725.55230\n",
       "2    28    0  33.000         3       0       2   4449.46200\n",
       "3    33    0  22.705         0       0       0  21984.47061\n",
       "4    32    0  28.880         0       0       0   3866.85520\n",
       "5    31    1  25.740         0       0       2   3756.62160\n",
       "6    46    1  33.440         1       0       2   8240.58960\n",
       "7    37    1  27.740         3       0       0   7281.50560\n",
       "8    37    0  29.830         2       0       3   6406.41070\n",
       "9    60    1  25.840         0       0       0  28923.13692\n",
       "10   25    0  26.220         0       0       3   2721.32080\n",
       "11   62    1  26.290         0       1       2  27808.72510\n",
       "12   23    0  34.400         0       0       1   1826.84300\n",
       "13   56    1  39.820         0       0       2  11090.71780\n",
       "14   27    0  42.130         0       1       2  39611.75770"
      ]
     },
     "execution_count": 101,
     "metadata": {},
     "output_type": "execute_result"
    }
   ],
   "source": [
    "#changing categorical values into bianry\n",
    "gender = {'male': 0,'female': 1}\n",
    "smoker = {'yes':1, 'no':0}\n",
    "loc ={'northwest': 0, 'southwest':1, 'southeast':2, 'northeast':3}\n",
    "insurance_df['sex']= [gender[item] for item in insurance_df['sex']]\n",
    "insurance_df['smoker'] = [smoker[item] for item in insurance_df['smoker']]\n",
    "insurance_df['region']= [loc[item] for item in insurance_df['region']]\n",
    "\n",
    "insurance_df.head(15)"
   ]
  },
  {
   "cell_type": "code",
   "execution_count": 102,
   "id": "9b8ad31c",
   "metadata": {},
   "outputs": [
    {
     "name": "stdout",
     "output_type": "stream",
     "text": [
      "The Numbers of Rows and Columns in this data set are: 1338 rows and 7 columns.\n"
     ]
    }
   ],
   "source": [
    "print(f\"The Numbers of Rows and Columns in this data set are: \\\n",
    "{insurance_df.shape[0]} rows and {insurance_df.shape[1]} columns.\")"
   ]
  },
  {
   "cell_type": "markdown",
   "id": "f51e08bd",
   "metadata": {},
   "source": [
    "# Exploratory Data Analysis(EDA)"
   ]
  },
  {
   "cell_type": "code",
   "execution_count": 103,
   "id": "7e4cb2a5",
   "metadata": {},
   "outputs": [
    {
     "name": "stdout",
     "output_type": "stream",
     "text": [
      "<class 'pandas.core.frame.DataFrame'>\n",
      "RangeIndex: 1338 entries, 0 to 1337\n",
      "Data columns (total 7 columns):\n",
      " #   Column    Non-Null Count  Dtype  \n",
      "---  ------    --------------  -----  \n",
      " 0   age       1338 non-null   int64  \n",
      " 1   sex       1338 non-null   int64  \n",
      " 2   bmi       1338 non-null   float64\n",
      " 3   children  1338 non-null   int64  \n",
      " 4   smoker    1338 non-null   int64  \n",
      " 5   region    1338 non-null   int64  \n",
      " 6   charges   1338 non-null   float64\n",
      "dtypes: float64(2), int64(5)\n",
      "memory usage: 73.3 KB\n"
     ]
    }
   ],
   "source": [
    "insurance_df.info()"
   ]
  },
  {
   "cell_type": "code",
   "execution_count": 144,
   "id": "d8d717f3",
   "metadata": {},
   "outputs": [
    {
     "data": {
      "text/html": [
       "<div>\n",
       "<style scoped>\n",
       "    .dataframe tbody tr th:only-of-type {\n",
       "        vertical-align: middle;\n",
       "    }\n",
       "\n",
       "    .dataframe tbody tr th {\n",
       "        vertical-align: top;\n",
       "    }\n",
       "\n",
       "    .dataframe thead th {\n",
       "        text-align: right;\n",
       "    }\n",
       "</style>\n",
       "<table border=\"1\" class=\"dataframe\">\n",
       "  <thead>\n",
       "    <tr style=\"text-align: right;\">\n",
       "      <th></th>\n",
       "      <th>count</th>\n",
       "      <th>mean</th>\n",
       "      <th>std</th>\n",
       "      <th>min</th>\n",
       "      <th>25%</th>\n",
       "      <th>50%</th>\n",
       "      <th>75%</th>\n",
       "      <th>max</th>\n",
       "    </tr>\n",
       "  </thead>\n",
       "  <tbody>\n",
       "    <tr>\n",
       "      <th>age</th>\n",
       "      <td>1338.0</td>\n",
       "      <td>39.207025</td>\n",
       "      <td>14.049960</td>\n",
       "      <td>18.0000</td>\n",
       "      <td>27.00000</td>\n",
       "      <td>39.000</td>\n",
       "      <td>51.000000</td>\n",
       "      <td>64.00000</td>\n",
       "    </tr>\n",
       "    <tr>\n",
       "      <th>sex</th>\n",
       "      <td>1338.0</td>\n",
       "      <td>0.494768</td>\n",
       "      <td>0.500160</td>\n",
       "      <td>0.0000</td>\n",
       "      <td>0.00000</td>\n",
       "      <td>0.000</td>\n",
       "      <td>1.000000</td>\n",
       "      <td>1.00000</td>\n",
       "    </tr>\n",
       "    <tr>\n",
       "      <th>bmi</th>\n",
       "      <td>1338.0</td>\n",
       "      <td>30.663397</td>\n",
       "      <td>6.098187</td>\n",
       "      <td>15.9600</td>\n",
       "      <td>26.29625</td>\n",
       "      <td>30.400</td>\n",
       "      <td>34.693750</td>\n",
       "      <td>53.13000</td>\n",
       "    </tr>\n",
       "    <tr>\n",
       "      <th>children</th>\n",
       "      <td>1338.0</td>\n",
       "      <td>1.094918</td>\n",
       "      <td>1.205493</td>\n",
       "      <td>0.0000</td>\n",
       "      <td>0.00000</td>\n",
       "      <td>1.000</td>\n",
       "      <td>2.000000</td>\n",
       "      <td>5.00000</td>\n",
       "    </tr>\n",
       "    <tr>\n",
       "      <th>smoker</th>\n",
       "      <td>1338.0</td>\n",
       "      <td>0.204783</td>\n",
       "      <td>0.403694</td>\n",
       "      <td>0.0000</td>\n",
       "      <td>0.00000</td>\n",
       "      <td>0.000</td>\n",
       "      <td>0.000000</td>\n",
       "      <td>1.00000</td>\n",
       "    </tr>\n",
       "    <tr>\n",
       "      <th>region</th>\n",
       "      <td>1338.0</td>\n",
       "      <td>1.513453</td>\n",
       "      <td>1.104915</td>\n",
       "      <td>0.0000</td>\n",
       "      <td>1.00000</td>\n",
       "      <td>2.000</td>\n",
       "      <td>2.000000</td>\n",
       "      <td>3.00000</td>\n",
       "    </tr>\n",
       "    <tr>\n",
       "      <th>charges</th>\n",
       "      <td>1338.0</td>\n",
       "      <td>13270.422265</td>\n",
       "      <td>12110.011237</td>\n",
       "      <td>1121.8739</td>\n",
       "      <td>4740.28715</td>\n",
       "      <td>9382.033</td>\n",
       "      <td>16639.912515</td>\n",
       "      <td>63770.42801</td>\n",
       "    </tr>\n",
       "  </tbody>\n",
       "</table>\n",
       "</div>"
      ],
      "text/plain": [
       "           count          mean           std        min         25%       50%  \\\n",
       "age       1338.0     39.207025     14.049960    18.0000    27.00000    39.000   \n",
       "sex       1338.0      0.494768      0.500160     0.0000     0.00000     0.000   \n",
       "bmi       1338.0     30.663397      6.098187    15.9600    26.29625    30.400   \n",
       "children  1338.0      1.094918      1.205493     0.0000     0.00000     1.000   \n",
       "smoker    1338.0      0.204783      0.403694     0.0000     0.00000     0.000   \n",
       "region    1338.0      1.513453      1.104915     0.0000     1.00000     2.000   \n",
       "charges   1338.0  13270.422265  12110.011237  1121.8739  4740.28715  9382.033   \n",
       "\n",
       "                   75%          max  \n",
       "age          51.000000     64.00000  \n",
       "sex           1.000000      1.00000  \n",
       "bmi          34.693750     53.13000  \n",
       "children      2.000000      5.00000  \n",
       "smoker        0.000000      1.00000  \n",
       "region        2.000000      3.00000  \n",
       "charges   16639.912515  63770.42801  "
      ]
     },
     "execution_count": 144,
     "metadata": {},
     "output_type": "execute_result"
    }
   ],
   "source": [
    "#statistics summary\n",
    "insurance_df.describe().T"
   ]
  },
  {
   "cell_type": "code",
   "execution_count": 104,
   "id": "2bc774bc",
   "metadata": {},
   "outputs": [],
   "source": [
    "#creating correlation matrix\n",
    "corr=insurance_df.corr()"
   ]
  },
  {
   "cell_type": "code",
   "execution_count": 105,
   "id": "d720c839",
   "metadata": {},
   "outputs": [
    {
     "data": {
      "image/png": "[encoded data removed]",
      "text/plain": [
       "<Figure size 1152x864 with 2 Axes>"
      ]
     },
     "metadata": {
      "needs_background": "light"
     },
     "output_type": "display_data"
    }
   ],
   "source": [
    "#plotting the correlation matrix\n",
    "plt.figure(figsize=(16,12))\n",
    "ax = sns.heatmap(corr, annot=True, square=True, fmt='.3f', linecolor='black')\n",
    "ax.set_xticklabels(ax.get_xticklabels(), rotation=90)\n",
    "ax.set_yticklabels(ax.get_yticklabels(), rotation=30)\n",
    "plt.title('Correlation Heatmap')\n",
    "plt.show();"
   ]
  },
  {
   "cell_type": "code",
   "execution_count": 106,
   "id": "23c7f36a",
   "metadata": {},
   "outputs": [
    {
     "data": {
      "text/plain": [
       "charges     1.000000\n",
       "smoker      0.787251\n",
       "age         0.299008\n",
       "bmi         0.198341\n",
       "children    0.067998\n",
       "region      0.050226\n",
       "sex        -0.057292\n",
       "Name: charges, dtype: float64"
      ]
     },
     "execution_count": 106,
     "metadata": {},
     "output_type": "execute_result"
    }
   ],
   "source": [
    "corr_matrix = insurance_df.corr()\n",
    "corr_matrix['charges'].sort_values(ascending=False)"
   ]
  },
  {
   "cell_type": "markdown",
   "id": "9928ffd0",
   "metadata": {},
   "source": [
    "_Here we see that charges for smokers are higher than non-smokers. Sex,children,region do not affect the price much_"
   ]
  },
  {
   "cell_type": "code",
   "execution_count": 107,
   "id": "3eca2e3e",
   "metadata": {},
   "outputs": [
    {
     "data": {
      "text/plain": [
       "age         0\n",
       "sex         0\n",
       "bmi         0\n",
       "children    0\n",
       "smoker      0\n",
       "region      0\n",
       "charges     0\n",
       "dtype: int64"
      ]
     },
     "execution_count": 107,
     "metadata": {},
     "output_type": "execute_result"
    }
   ],
   "source": [
    "#counting the missing values in numerical features\n",
    "insurance_df.isnull().sum()"
   ]
  },
  {
   "cell_type": "markdown",
   "id": "73cb5da0",
   "metadata": {},
   "source": [
    "# Feature Scaling"
   ]
  },
  {
   "cell_type": "code",
   "execution_count": 108,
   "id": "a510a534",
   "metadata": {},
   "outputs": [],
   "source": [
    "# segregating the target variable\n",
    "X = insurance_df.drop(columns='charges')\n",
    "y = insurance_df['charges']\n",
    "#splitting\n",
    "X_train, X_test, y_train, y_test = train_test_split(X, y, test_size=0.20, random_state=0)"
   ]
  },
  {
   "cell_type": "code",
   "execution_count": 125,
   "id": "e78c3978",
   "metadata": {},
   "outputs": [],
   "source": [
    "# Feature Scaling\n",
    "sc = StandardScaler()\n",
    "X_train = sc.fit_transform(X_train)\n",
    "X_test = sc.transform(X_test)"
   ]
  },
  {
   "cell_type": "code",
   "execution_count": 126,
   "id": "35eecfca",
   "metadata": {},
   "outputs": [
    {
     "name": "stdout",
     "output_type": "stream",
     "text": [
      "In X_train dataset there are: 1070 rows and 6 columns.\n",
      "In X_test dataset there are: 268 rows and 6 columns.\n",
      "The shape of y_train is: (1070,)\n",
      "The shape of y_test is: (268,)\n"
     ]
    }
   ],
   "source": [
    "print(f\"In X_train dataset there are: {X_train.shape[0]} rows and {X_train.shape[1]} columns.\")\n",
    "print(f\"In X_test dataset there are: {X_test.shape[0]} rows and {X_test.shape[1]} columns.\")\n",
    "print(f\"The shape of y_train is: {y_train.shape}\")\n",
    "print(f\"The shape of y_test is: {y_test.shape}\")"
   ]
  },
  {
   "cell_type": "code",
   "execution_count": 127,
   "id": "2c18cd9e",
   "metadata": {},
   "outputs": [
    {
     "name": "stdout",
     "output_type": "stream",
     "text": [
      "LinearRegression() : \n",
      "Training Error :  0.4304192162954562\n",
      "Validation Error :  0.3990653083147247\n",
      "\n",
      "RandomForestRegressor() : \n",
      "Training Error :  0.1321941176162457\n",
      "Validation Error :  0.34099511947225186\n",
      "\n",
      "AdaBoostRegressor() : \n",
      "Training Error :  0.6083353820943579\n",
      "Validation Error :  0.6238128092673\n",
      "\n",
      "Lasso() : \n",
      "Training Error :  0.4304124672657053\n",
      "Validation Error :  0.39913488443714595\n",
      "\n",
      "Ridge() : \n",
      "Training Error :  0.4306522614915068\n",
      "Validation Error :  0.39941244508340445\n",
      "\n"
     ]
    }
   ],
   "source": [
    "models = [LinearRegression(),\n",
    "          RandomForestRegressor(), AdaBoostRegressor(),\n",
    "          Lasso(), Ridge()]\n",
    "  \n",
    "for i in range(5):\n",
    "    models[i].fit(X_train, y_train)\n",
    "  \n",
    "    print(f'{models[i]} : ')\n",
    "    pred_train = models[i].predict(X_train)\n",
    "    print('Training Error : ', mape(y_train, pred_train))\n",
    "  \n",
    "    pred_test = models[i].predict(X_test)\n",
    "    print('Validation Error : ', mape(y_test, pred_test))\n",
    "    print()"
   ]
  },
  {
   "cell_type": "markdown",
   "id": "f0356d20",
   "metadata": {},
   "source": [
    "_RandomForestRegressor has the least error value_"
   ]
  },
  {
   "cell_type": "code",
   "execution_count": 166,
   "id": "cd488b8a",
   "metadata": {},
   "outputs": [
    {
     "data": {
      "text/plain": [
       "RandomForestRegressor(n_estimators=20, random_state=42)"
      ]
     },
     "execution_count": 166,
     "metadata": {},
     "output_type": "execute_result"
    }
   ],
   "source": [
    "# Instantiate and fit the RandomForestClassifier\n",
    "regressor = RandomForestRegressor(n_estimators=20, random_state=42)\n",
    "regressor.fit(X_train, y_train)"
   ]
  },
  {
   "cell_type": "code",
   "execution_count": 173,
   "id": "b2c3a894",
   "metadata": {},
   "outputs": [
    {
     "name": "stdout",
     "output_type": "stream",
     "text": [
      "18388069.58658093\n",
      "4288.131246426691\n"
     ]
    }
   ],
   "source": [
    "from sklearn.metrics import mean_squared_error\n",
    "prediction = regressor.predict(X_test)\n",
    "mse = mean_squared_error(y_test, prediction)\n",
    "rmse = mse**.5\n",
    "print(mse)\n",
    "print(rmse)"
   ]
  },
  {
   "cell_type": "code",
   "execution_count": 179,
   "id": "260ce74d",
   "metadata": {},
   "outputs": [
    {
     "data": {
      "text/plain": [
       "Text(0, 0.5, 'Predicted Y')"
      ]
     },
     "execution_count": 179,
     "metadata": {},
     "output_type": "execute_result"
    },
    {
     "data": {
      "image/png": "[encoded data removed]",
      "text/plain": [
       "<Figure size 432x288 with 1 Axes>"
      ]
     },
     "metadata": {
      "needs_background": "light"
     },
     "output_type": "display_data"
    }
   ],
   "source": [
    "#Correlation between predicted and actual results.\n",
    "plt.scatter(y_test,prediction)\n",
    "plt.xlabel('Y Test')\n",
    "plt.ylabel('Predicted Y')"
   ]
  },
  {
   "cell_type": "code",
   "execution_count": 177,
   "id": "fec2ab28",
   "metadata": {},
   "outputs": [
    {
     "data": {
      "text/html": [
       "<div>\n",
       "<style scoped>\n",
       "    .dataframe tbody tr th:only-of-type {\n",
       "        vertical-align: middle;\n",
       "    }\n",
       "\n",
       "    .dataframe tbody tr th {\n",
       "        vertical-align: top;\n",
       "    }\n",
       "\n",
       "    .dataframe thead th {\n",
       "        text-align: right;\n",
       "    }\n",
       "</style>\n",
       "<table border=\"1\" class=\"dataframe\">\n",
       "  <thead>\n",
       "    <tr style=\"text-align: right;\">\n",
       "      <th></th>\n",
       "      <th>age</th>\n",
       "      <th>sex</th>\n",
       "      <th>bmi</th>\n",
       "      <th>children</th>\n",
       "      <th>smoker</th>\n",
       "      <th>region</th>\n",
       "    </tr>\n",
       "  </thead>\n",
       "  <tbody>\n",
       "    <tr>\n",
       "      <th>1</th>\n",
       "      <td>40</td>\n",
       "      <td>1</td>\n",
       "      <td>45.5</td>\n",
       "      <td>4</td>\n",
       "      <td>1</td>\n",
       "      <td>3</td>\n",
       "    </tr>\n",
       "  </tbody>\n",
       "</table>\n",
       "</div>"
      ],
      "text/plain": [
       "   age  sex   bmi  children  smoker  region\n",
       "1   40    1  45.5         4       1       3"
      ]
     },
     "execution_count": 177,
     "metadata": {},
     "output_type": "execute_result"
    }
   ],
   "source": [
    "# Predict charges for new customer : Name- patientzero\n",
    "data = {'age' : 40,\n",
    "        'sex' : 1,\n",
    "        'bmi' : 45.50,\n",
    "        'children' : 4,\n",
    "        'smoker' : 1,\n",
    "        'region' : 3}\n",
    "index = [1]\n",
    "patientzero_df = pd.DataFrame(data,index)\n",
    "patientzero_df"
   ]
  },
  {
   "cell_type": "code",
   "execution_count": 178,
   "id": "3d15e08c",
   "metadata": {},
   "outputs": [
    {
     "name": "stdout",
     "output_type": "stream",
     "text": [
      "Medical Insurance cost for Frank is :  [58252.2865695]\n"
     ]
    }
   ],
   "source": [
    "prediction_patientzero = regressor.predict(patientzero_df)\n",
    "print(\"Medical Insurance cost for Frank is : \",prediction_patientzero)"
   ]
  },
  {
   "cell_type": "code",
   "execution_count": null,
   "id": "b68b6a32",
   "metadata": {},
   "outputs": [],
   "source": []
  }
 ],
 "metadata": {
  "kernelspec": {
   "display_name": "Python 3",
   "language": "python",
   "name": "python3"
  },
  "language_info": {
   "codemirror_mode": {
    "name": "ipython",
    "version": 3
   },
   "file_extension": ".py",
   "mimetype": "text/x-python",
   "name": "python",
   "nbconvert_exporter": "python",
   "pygments_lexer": "ipython3",
   "version": "3.8.8"
  }
 },
 "nbformat": 4,
 "nbformat_minor": 5
}
